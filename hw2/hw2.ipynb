{
 "cells": [
  {
   "cell_type": "markdown",
   "metadata": {},
   "source": [
    "# CPSC 330 - Applied Machine Learning \n",
    "\n",
    "## Homework 2: Decision trees and machine learning fundamentals \n",
    "### Associated lectures: [Lectures 2 and 3](https://github.com/UBC-CS/cpsc330-2024s/tree/main/lectures) \n",
    "**See PrairieLearn for _due date_ and _submission instructions_**\n"
   ]
  },
  {
   "cell_type": "markdown",
   "metadata": {},
   "source": [
    "Imports\n",
    "------"
   ]
  },
  {
   "cell_type": "code",
   "execution_count": 1,
   "metadata": {},
   "outputs": [],
   "source": [
    "from hashlib import sha1\n",
    "\n",
    "import matplotlib.pyplot as plt\n",
    "import numpy as np\n",
    "import pandas as pd\n",
    "\n",
    "plt.rcParams[\"font.size\"] = 16\n",
    "\n",
    "from sklearn.model_selection import cross_val_score, cross_validate, train_test_split\n",
    "from sklearn.tree import DecisionTreeClassifier"
   ]
  },
  {
   "cell_type": "markdown",
   "metadata": {},
   "source": [
    "<br><br>"
   ]
  },
  {
   "cell_type": "markdown",
   "metadata": {},
   "source": [
    "## Instructions\n",
    "\n",
    "_Points: 3_\n",
    "\n",
    "Follow the [CPSC 330 homework submission instructions](https://github.com/UBC-CS/cpsc330-2024s/blob/main/docs/homework_instructions.md), and the summary at the end of this HW.\n"
   ]
  },
  {
   "cell_type": "markdown",
   "metadata": {},
   "source": [
    "<br><br>"
   ]
  },
  {
   "cell_type": "markdown",
   "metadata": {},
   "source": [
    "## Introducing the data set\n",
    " \n",
    "For the rest of the lab you'll be using Kaggle's [Spotify Song Attributes](https://www.kaggle.com/geomack/spotifyclassification/home) dataset. The dataset contains a number of features of songs from 2017 and a binary variable `target` that represents whether the user liked the song (encoded as 1) or not (encoded as 0). See the documentation of all the features [here](https://developer.spotify.com/documentation/web-api/reference/get-several-audio-features). \n",
    "\n",
    "This dataset is publicly available on Kaggle, and you will have to download it yourself. Follow the steps below to get the data CSV. \n",
    "\n",
    "1. If you do not have an account with [Kaggle](https://www.kaggle.com/), you will first need to create one (it's free).\n",
    "2. Login to your account and [download](https://www.kaggle.com/geomack/spotifyclassification/download) the dataset.\n",
    "3. Unzip the data file if needed, then rename it to `spotify.csv`, and move it under the `data` directory. \n",
    "\n",
    "> You will not be able to push it to your repository (hopefully) because I have seeded the repository wich `.gitignore`."
   ]
  },
  {
   "cell_type": "markdown",
   "metadata": {},
   "source": [
    "<br><br>"
   ]
  },
  {
   "cell_type": "markdown",
   "metadata": {},
   "source": [
    "## Exercise 1: Exploratory data analysis"
   ]
  },
  {
   "cell_type": "markdown",
   "metadata": {
    "nbgrader": {
     "grade": false,
     "grade_id": "cell-d4d478b6cdc9bf88",
     "locked": true,
     "schema_version": 3,
     "solution": false
    }
   },
   "source": [
    "### 1.1 Loading the data\n",
    "_Points: 2_\n",
    "\n",
    "**Your tasks:**\n",
    "\n",
    "Read in the data CSV and store it as a pandas dataframe named `spotify_df`. The first column (index=0) of the .csv file should be set as the index."
   ]
  },
  {
   "cell_type": "markdown",
   "metadata": {},
   "source": [
    "<div class=\"alert alert-warning\">\n",
    "\n",
    "Solution_1.1\n",
    "    \n",
    "</div>"
   ]
  },
  {
   "cell_type": "code",
   "execution_count": 51,
   "metadata": {},
   "outputs": [
    {
     "data": {
      "text/html": [
       "<div>\n",
       "<style scoped>\n",
       "    .dataframe tbody tr th:only-of-type {\n",
       "        vertical-align: middle;\n",
       "    }\n",
       "\n",
       "    .dataframe tbody tr th {\n",
       "        vertical-align: top;\n",
       "    }\n",
       "\n",
       "    .dataframe thead th {\n",
       "        text-align: right;\n",
       "    }\n",
       "</style>\n",
       "<table border=\"1\" class=\"dataframe\">\n",
       "  <thead>\n",
       "    <tr style=\"text-align: right;\">\n",
       "      <th></th>\n",
       "      <th>acousticness</th>\n",
       "      <th>danceability</th>\n",
       "      <th>duration_ms</th>\n",
       "      <th>energy</th>\n",
       "      <th>instrumentalness</th>\n",
       "      <th>key</th>\n",
       "      <th>liveness</th>\n",
       "      <th>loudness</th>\n",
       "      <th>mode</th>\n",
       "      <th>speechiness</th>\n",
       "      <th>tempo</th>\n",
       "      <th>time_signature</th>\n",
       "      <th>valence</th>\n",
       "      <th>target</th>\n",
       "      <th>song_title</th>\n",
       "      <th>artist</th>\n",
       "    </tr>\n",
       "  </thead>\n",
       "  <tbody>\n",
       "    <tr>\n",
       "      <th>0</th>\n",
       "      <td>0.01020</td>\n",
       "      <td>0.833</td>\n",
       "      <td>204600</td>\n",
       "      <td>0.434</td>\n",
       "      <td>0.021900</td>\n",
       "      <td>2</td>\n",
       "      <td>0.1650</td>\n",
       "      <td>-8.795</td>\n",
       "      <td>1</td>\n",
       "      <td>0.4310</td>\n",
       "      <td>150.062</td>\n",
       "      <td>4.0</td>\n",
       "      <td>0.286</td>\n",
       "      <td>1</td>\n",
       "      <td>Mask Off</td>\n",
       "      <td>Future</td>\n",
       "    </tr>\n",
       "    <tr>\n",
       "      <th>1</th>\n",
       "      <td>0.19900</td>\n",
       "      <td>0.743</td>\n",
       "      <td>326933</td>\n",
       "      <td>0.359</td>\n",
       "      <td>0.006110</td>\n",
       "      <td>1</td>\n",
       "      <td>0.1370</td>\n",
       "      <td>-10.401</td>\n",
       "      <td>1</td>\n",
       "      <td>0.0794</td>\n",
       "      <td>160.083</td>\n",
       "      <td>4.0</td>\n",
       "      <td>0.588</td>\n",
       "      <td>1</td>\n",
       "      <td>Redbone</td>\n",
       "      <td>Childish Gambino</td>\n",
       "    </tr>\n",
       "    <tr>\n",
       "      <th>2</th>\n",
       "      <td>0.03440</td>\n",
       "      <td>0.838</td>\n",
       "      <td>185707</td>\n",
       "      <td>0.412</td>\n",
       "      <td>0.000234</td>\n",
       "      <td>2</td>\n",
       "      <td>0.1590</td>\n",
       "      <td>-7.148</td>\n",
       "      <td>1</td>\n",
       "      <td>0.2890</td>\n",
       "      <td>75.044</td>\n",
       "      <td>4.0</td>\n",
       "      <td>0.173</td>\n",
       "      <td>1</td>\n",
       "      <td>Xanny Family</td>\n",
       "      <td>Future</td>\n",
       "    </tr>\n",
       "    <tr>\n",
       "      <th>3</th>\n",
       "      <td>0.60400</td>\n",
       "      <td>0.494</td>\n",
       "      <td>199413</td>\n",
       "      <td>0.338</td>\n",
       "      <td>0.510000</td>\n",
       "      <td>5</td>\n",
       "      <td>0.0922</td>\n",
       "      <td>-15.236</td>\n",
       "      <td>1</td>\n",
       "      <td>0.0261</td>\n",
       "      <td>86.468</td>\n",
       "      <td>4.0</td>\n",
       "      <td>0.230</td>\n",
       "      <td>1</td>\n",
       "      <td>Master Of None</td>\n",
       "      <td>Beach House</td>\n",
       "    </tr>\n",
       "    <tr>\n",
       "      <th>4</th>\n",
       "      <td>0.18000</td>\n",
       "      <td>0.678</td>\n",
       "      <td>392893</td>\n",
       "      <td>0.561</td>\n",
       "      <td>0.512000</td>\n",
       "      <td>5</td>\n",
       "      <td>0.4390</td>\n",
       "      <td>-11.648</td>\n",
       "      <td>0</td>\n",
       "      <td>0.0694</td>\n",
       "      <td>174.004</td>\n",
       "      <td>4.0</td>\n",
       "      <td>0.904</td>\n",
       "      <td>1</td>\n",
       "      <td>Parallel Lines</td>\n",
       "      <td>Junior Boys</td>\n",
       "    </tr>\n",
       "    <tr>\n",
       "      <th>5</th>\n",
       "      <td>0.00479</td>\n",
       "      <td>0.804</td>\n",
       "      <td>251333</td>\n",
       "      <td>0.560</td>\n",
       "      <td>0.000000</td>\n",
       "      <td>8</td>\n",
       "      <td>0.1640</td>\n",
       "      <td>-6.682</td>\n",
       "      <td>1</td>\n",
       "      <td>0.1850</td>\n",
       "      <td>85.023</td>\n",
       "      <td>4.0</td>\n",
       "      <td>0.264</td>\n",
       "      <td>1</td>\n",
       "      <td>Sneakin’</td>\n",
       "      <td>Drake</td>\n",
       "    </tr>\n",
       "    <tr>\n",
       "      <th>6</th>\n",
       "      <td>0.01450</td>\n",
       "      <td>0.739</td>\n",
       "      <td>241400</td>\n",
       "      <td>0.472</td>\n",
       "      <td>0.000007</td>\n",
       "      <td>1</td>\n",
       "      <td>0.2070</td>\n",
       "      <td>-11.204</td>\n",
       "      <td>1</td>\n",
       "      <td>0.1560</td>\n",
       "      <td>80.030</td>\n",
       "      <td>4.0</td>\n",
       "      <td>0.308</td>\n",
       "      <td>1</td>\n",
       "      <td>Childs Play</td>\n",
       "      <td>Drake</td>\n",
       "    </tr>\n",
       "    <tr>\n",
       "      <th>7</th>\n",
       "      <td>0.02020</td>\n",
       "      <td>0.266</td>\n",
       "      <td>349667</td>\n",
       "      <td>0.348</td>\n",
       "      <td>0.664000</td>\n",
       "      <td>10</td>\n",
       "      <td>0.1600</td>\n",
       "      <td>-11.609</td>\n",
       "      <td>0</td>\n",
       "      <td>0.0371</td>\n",
       "      <td>144.154</td>\n",
       "      <td>4.0</td>\n",
       "      <td>0.393</td>\n",
       "      <td>1</td>\n",
       "      <td>Gyöngyhajú lány</td>\n",
       "      <td>Omega</td>\n",
       "    </tr>\n",
       "    <tr>\n",
       "      <th>8</th>\n",
       "      <td>0.04810</td>\n",
       "      <td>0.603</td>\n",
       "      <td>202853</td>\n",
       "      <td>0.944</td>\n",
       "      <td>0.000000</td>\n",
       "      <td>11</td>\n",
       "      <td>0.3420</td>\n",
       "      <td>-3.626</td>\n",
       "      <td>0</td>\n",
       "      <td>0.3470</td>\n",
       "      <td>130.035</td>\n",
       "      <td>4.0</td>\n",
       "      <td>0.398</td>\n",
       "      <td>1</td>\n",
       "      <td>I've Seen Footage</td>\n",
       "      <td>Death Grips</td>\n",
       "    </tr>\n",
       "    <tr>\n",
       "      <th>9</th>\n",
       "      <td>0.00208</td>\n",
       "      <td>0.836</td>\n",
       "      <td>226840</td>\n",
       "      <td>0.603</td>\n",
       "      <td>0.000000</td>\n",
       "      <td>7</td>\n",
       "      <td>0.5710</td>\n",
       "      <td>-7.792</td>\n",
       "      <td>1</td>\n",
       "      <td>0.2370</td>\n",
       "      <td>99.994</td>\n",
       "      <td>4.0</td>\n",
       "      <td>0.386</td>\n",
       "      <td>1</td>\n",
       "      <td>Digital Animal</td>\n",
       "      <td>Honey Claws</td>\n",
       "    </tr>\n",
       "  </tbody>\n",
       "</table>\n",
       "</div>"
      ],
      "text/plain": [
       "   acousticness  danceability  duration_ms  energy  instrumentalness  key  \\\n",
       "0       0.01020         0.833       204600   0.434          0.021900    2   \n",
       "1       0.19900         0.743       326933   0.359          0.006110    1   \n",
       "2       0.03440         0.838       185707   0.412          0.000234    2   \n",
       "3       0.60400         0.494       199413   0.338          0.510000    5   \n",
       "4       0.18000         0.678       392893   0.561          0.512000    5   \n",
       "5       0.00479         0.804       251333   0.560          0.000000    8   \n",
       "6       0.01450         0.739       241400   0.472          0.000007    1   \n",
       "7       0.02020         0.266       349667   0.348          0.664000   10   \n",
       "8       0.04810         0.603       202853   0.944          0.000000   11   \n",
       "9       0.00208         0.836       226840   0.603          0.000000    7   \n",
       "\n",
       "   liveness  loudness  mode  speechiness    tempo  time_signature  valence  \\\n",
       "0    0.1650    -8.795     1       0.4310  150.062             4.0    0.286   \n",
       "1    0.1370   -10.401     1       0.0794  160.083             4.0    0.588   \n",
       "2    0.1590    -7.148     1       0.2890   75.044             4.0    0.173   \n",
       "3    0.0922   -15.236     1       0.0261   86.468             4.0    0.230   \n",
       "4    0.4390   -11.648     0       0.0694  174.004             4.0    0.904   \n",
       "5    0.1640    -6.682     1       0.1850   85.023             4.0    0.264   \n",
       "6    0.2070   -11.204     1       0.1560   80.030             4.0    0.308   \n",
       "7    0.1600   -11.609     0       0.0371  144.154             4.0    0.393   \n",
       "8    0.3420    -3.626     0       0.3470  130.035             4.0    0.398   \n",
       "9    0.5710    -7.792     1       0.2370   99.994             4.0    0.386   \n",
       "\n",
       "   target         song_title            artist  \n",
       "0       1           Mask Off            Future  \n",
       "1       1            Redbone  Childish Gambino  \n",
       "2       1       Xanny Family            Future  \n",
       "3       1     Master Of None       Beach House  \n",
       "4       1     Parallel Lines       Junior Boys  \n",
       "5       1           Sneakin’             Drake  \n",
       "6       1        Childs Play             Drake  \n",
       "7       1    Gyöngyhajú lány             Omega  \n",
       "8       1  I've Seen Footage       Death Grips  \n",
       "9       1     Digital Animal       Honey Claws  "
      ]
     },
     "execution_count": 51,
     "metadata": {},
     "output_type": "execute_result"
    }
   ],
   "source": [
    "spotify_df = pd.read_csv(\"data/spotify.csv\", index_col=0)\n",
    "spotify_df.shape\n",
    "spotify_df.head(10)"
   ]
  },
  {
   "cell_type": "markdown",
   "metadata": {},
   "source": [
    "<br><br>"
   ]
  },
  {
   "cell_type": "markdown",
   "metadata": {},
   "source": [
    "### 1.2 Number of training and test examples\n",
    "\n",
    "_Points: 2_\n",
    "\n",
    "**Your tasks:**\n",
    "\n",
    "Run the following line of code to split the data. How many training and test examples do we have? Store them in variables `n_train_samples` and `n_test_samples`, respectively.  \n",
    "\n",
    "> Note: we are setting the `random_state` so that everyone has the same split on their assignments. This will make it easier for the TAs to grade."
   ]
  },
  {
   "cell_type": "code",
   "execution_count": 13,
   "metadata": {},
   "outputs": [],
   "source": [
    "train_df, test_df = train_test_split(spotify_df, test_size=0.2, random_state=321)\n",
    "train_examples_count = train_df.shape[0]\n",
    "test_examples_count = test_df.shape[0]"
   ]
  },
  {
   "cell_type": "markdown",
   "metadata": {},
   "source": [
    "<div class=\"alert alert-warning\">\n",
    "\n",
    "Solution_1.2\n",
    "    \n",
    "</div>"
   ]
  },
  {
   "cell_type": "code",
   "execution_count": 14,
   "metadata": {},
   "outputs": [
    {
     "name": "stdout",
     "output_type": "stream",
     "text": [
      "train examples = 1613\n",
      "test examples = 404\n"
     ]
    }
   ],
   "source": [
    "print(f\"train examples = {train_examples_count}\")\n",
    "print(f\"test examples = {test_examples_count}\")"
   ]
  },
  {
   "cell_type": "markdown",
   "metadata": {},
   "source": [
    "<br><br>"
   ]
  },
  {
   "cell_type": "markdown",
   "metadata": {},
   "source": [
    "#### 1.3\n",
    "\n",
    "_Points: 3_\n",
    "\n",
    "**Your tasks:**\n",
    "\n",
    "1. Print out the output of `describe()` **on the training split**. This will compute some summary statistics of the numeric columns.\n",
    "2. Which feature has the smallest range? \n",
    "\n",
    "> Hint: You can subtract the min value from the max value of the column to get the range.\n",
    "\n",
    "> Note that `describe` returns another DataFrame.\n"
   ]
  },
  {
   "cell_type": "markdown",
   "metadata": {},
   "source": [
    "<div class=\"alert alert-warning\">\n",
    "\n",
    "Solution_1.3\n",
    "    \n",
    "</div>"
   ]
  },
  {
   "cell_type": "code",
   "execution_count": 25,
   "metadata": {},
   "outputs": [
    {
     "data": {
      "text/html": [
       "<div>\n",
       "<style scoped>\n",
       "    .dataframe tbody tr th:only-of-type {\n",
       "        vertical-align: middle;\n",
       "    }\n",
       "\n",
       "    .dataframe tbody tr th {\n",
       "        vertical-align: top;\n",
       "    }\n",
       "\n",
       "    .dataframe thead th {\n",
       "        text-align: right;\n",
       "    }\n",
       "</style>\n",
       "<table border=\"1\" class=\"dataframe\">\n",
       "  <thead>\n",
       "    <tr style=\"text-align: right;\">\n",
       "      <th></th>\n",
       "      <th>acousticness</th>\n",
       "      <th>danceability</th>\n",
       "      <th>duration_ms</th>\n",
       "      <th>energy</th>\n",
       "      <th>instrumentalness</th>\n",
       "      <th>key</th>\n",
       "      <th>liveness</th>\n",
       "      <th>loudness</th>\n",
       "      <th>mode</th>\n",
       "      <th>speechiness</th>\n",
       "      <th>tempo</th>\n",
       "      <th>time_signature</th>\n",
       "      <th>valence</th>\n",
       "      <th>target</th>\n",
       "    </tr>\n",
       "  </thead>\n",
       "  <tbody>\n",
       "    <tr>\n",
       "      <th>count</th>\n",
       "      <td>1613.000000</td>\n",
       "      <td>1613.000000</td>\n",
       "      <td>1.613000e+03</td>\n",
       "      <td>1613.000000</td>\n",
       "      <td>1613.000000</td>\n",
       "      <td>1613.000000</td>\n",
       "      <td>1613.000000</td>\n",
       "      <td>1613.000000</td>\n",
       "      <td>1613.000000</td>\n",
       "      <td>1613.000000</td>\n",
       "      <td>1613.000000</td>\n",
       "      <td>1613.000000</td>\n",
       "      <td>1613.000000</td>\n",
       "      <td>1613.000000</td>\n",
       "    </tr>\n",
       "    <tr>\n",
       "      <th>mean</th>\n",
       "      <td>0.185067</td>\n",
       "      <td>0.620076</td>\n",
       "      <td>2.462533e+05</td>\n",
       "      <td>0.681315</td>\n",
       "      <td>0.134317</td>\n",
       "      <td>5.384377</td>\n",
       "      <td>0.191317</td>\n",
       "      <td>-7.095272</td>\n",
       "      <td>0.619343</td>\n",
       "      <td>0.092119</td>\n",
       "      <td>121.310311</td>\n",
       "      <td>3.975201</td>\n",
       "      <td>0.495891</td>\n",
       "      <td>0.512089</td>\n",
       "    </tr>\n",
       "    <tr>\n",
       "      <th>std</th>\n",
       "      <td>0.255838</td>\n",
       "      <td>0.161152</td>\n",
       "      <td>8.056740e+04</td>\n",
       "      <td>0.206964</td>\n",
       "      <td>0.274217</td>\n",
       "      <td>3.653722</td>\n",
       "      <td>0.156071</td>\n",
       "      <td>3.678993</td>\n",
       "      <td>0.485699</td>\n",
       "      <td>0.088007</td>\n",
       "      <td>26.431574</td>\n",
       "      <td>0.247829</td>\n",
       "      <td>0.244267</td>\n",
       "      <td>0.500009</td>\n",
       "    </tr>\n",
       "    <tr>\n",
       "      <th>min</th>\n",
       "      <td>0.000003</td>\n",
       "      <td>0.148000</td>\n",
       "      <td>1.604200e+04</td>\n",
       "      <td>0.015600</td>\n",
       "      <td>0.000000</td>\n",
       "      <td>0.000000</td>\n",
       "      <td>0.018800</td>\n",
       "      <td>-31.082000</td>\n",
       "      <td>0.000000</td>\n",
       "      <td>0.023100</td>\n",
       "      <td>47.859000</td>\n",
       "      <td>1.000000</td>\n",
       "      <td>0.037300</td>\n",
       "      <td>0.000000</td>\n",
       "    </tr>\n",
       "    <tr>\n",
       "      <th>25%</th>\n",
       "      <td>0.010000</td>\n",
       "      <td>0.514000</td>\n",
       "      <td>1.999040e+05</td>\n",
       "      <td>0.564000</td>\n",
       "      <td>0.000000</td>\n",
       "      <td>2.000000</td>\n",
       "      <td>0.092200</td>\n",
       "      <td>-8.388000</td>\n",
       "      <td>0.000000</td>\n",
       "      <td>0.037500</td>\n",
       "      <td>100.221000</td>\n",
       "      <td>4.000000</td>\n",
       "      <td>0.298000</td>\n",
       "      <td>0.000000</td>\n",
       "    </tr>\n",
       "    <tr>\n",
       "      <th>50%</th>\n",
       "      <td>0.062600</td>\n",
       "      <td>0.634000</td>\n",
       "      <td>2.298590e+05</td>\n",
       "      <td>0.712000</td>\n",
       "      <td>0.000088</td>\n",
       "      <td>6.000000</td>\n",
       "      <td>0.125000</td>\n",
       "      <td>-6.298000</td>\n",
       "      <td>1.000000</td>\n",
       "      <td>0.055300</td>\n",
       "      <td>121.241000</td>\n",
       "      <td>4.000000</td>\n",
       "      <td>0.492000</td>\n",
       "      <td>1.000000</td>\n",
       "    </tr>\n",
       "    <tr>\n",
       "      <th>75%</th>\n",
       "      <td>0.260000</td>\n",
       "      <td>0.739000</td>\n",
       "      <td>2.703330e+05</td>\n",
       "      <td>0.841000</td>\n",
       "      <td>0.055900</td>\n",
       "      <td>9.000000</td>\n",
       "      <td>0.250000</td>\n",
       "      <td>-4.833000</td>\n",
       "      <td>1.000000</td>\n",
       "      <td>0.107000</td>\n",
       "      <td>136.894000</td>\n",
       "      <td>4.000000</td>\n",
       "      <td>0.689000</td>\n",
       "      <td>1.000000</td>\n",
       "    </tr>\n",
       "    <tr>\n",
       "      <th>max</th>\n",
       "      <td>0.994000</td>\n",
       "      <td>0.984000</td>\n",
       "      <td>1.004627e+06</td>\n",
       "      <td>0.997000</td>\n",
       "      <td>0.976000</td>\n",
       "      <td>11.000000</td>\n",
       "      <td>0.969000</td>\n",
       "      <td>-0.718000</td>\n",
       "      <td>1.000000</td>\n",
       "      <td>0.622000</td>\n",
       "      <td>219.331000</td>\n",
       "      <td>5.000000</td>\n",
       "      <td>0.974000</td>\n",
       "      <td>1.000000</td>\n",
       "    </tr>\n",
       "  </tbody>\n",
       "</table>\n",
       "</div>"
      ],
      "text/plain": [
       "       acousticness  danceability   duration_ms       energy  \\\n",
       "count   1613.000000   1613.000000  1.613000e+03  1613.000000   \n",
       "mean       0.185067      0.620076  2.462533e+05     0.681315   \n",
       "std        0.255838      0.161152  8.056740e+04     0.206964   \n",
       "min        0.000003      0.148000  1.604200e+04     0.015600   \n",
       "25%        0.010000      0.514000  1.999040e+05     0.564000   \n",
       "50%        0.062600      0.634000  2.298590e+05     0.712000   \n",
       "75%        0.260000      0.739000  2.703330e+05     0.841000   \n",
       "max        0.994000      0.984000  1.004627e+06     0.997000   \n",
       "\n",
       "       instrumentalness          key     liveness     loudness         mode  \\\n",
       "count       1613.000000  1613.000000  1613.000000  1613.000000  1613.000000   \n",
       "mean           0.134317     5.384377     0.191317    -7.095272     0.619343   \n",
       "std            0.274217     3.653722     0.156071     3.678993     0.485699   \n",
       "min            0.000000     0.000000     0.018800   -31.082000     0.000000   \n",
       "25%            0.000000     2.000000     0.092200    -8.388000     0.000000   \n",
       "50%            0.000088     6.000000     0.125000    -6.298000     1.000000   \n",
       "75%            0.055900     9.000000     0.250000    -4.833000     1.000000   \n",
       "max            0.976000    11.000000     0.969000    -0.718000     1.000000   \n",
       "\n",
       "       speechiness        tempo  time_signature      valence       target  \n",
       "count  1613.000000  1613.000000     1613.000000  1613.000000  1613.000000  \n",
       "mean      0.092119   121.310311        3.975201     0.495891     0.512089  \n",
       "std       0.088007    26.431574        0.247829     0.244267     0.500009  \n",
       "min       0.023100    47.859000        1.000000     0.037300     0.000000  \n",
       "25%       0.037500   100.221000        4.000000     0.298000     0.000000  \n",
       "50%       0.055300   121.241000        4.000000     0.492000     1.000000  \n",
       "75%       0.107000   136.894000        4.000000     0.689000     1.000000  \n",
       "max       0.622000   219.331000        5.000000     0.974000     1.000000  "
      ]
     },
     "execution_count": 25,
     "metadata": {},
     "output_type": "execute_result"
    }
   ],
   "source": [
    "desc = train_df.describe()\n",
    "desc.head(8)"
   ]
  },
  {
   "cell_type": "code",
   "execution_count": 30,
   "metadata": {},
   "outputs": [
    {
     "data": {
      "text/html": [
       "<div>\n",
       "<style scoped>\n",
       "    .dataframe tbody tr th:only-of-type {\n",
       "        vertical-align: middle;\n",
       "    }\n",
       "\n",
       "    .dataframe tbody tr th {\n",
       "        vertical-align: top;\n",
       "    }\n",
       "\n",
       "    .dataframe thead th {\n",
       "        text-align: right;\n",
       "    }\n",
       "</style>\n",
       "<table border=\"1\" class=\"dataframe\">\n",
       "  <thead>\n",
       "    <tr style=\"text-align: right;\">\n",
       "      <th></th>\n",
       "      <th>acousticness</th>\n",
       "      <th>danceability</th>\n",
       "      <th>duration_ms</th>\n",
       "      <th>energy</th>\n",
       "      <th>instrumentalness</th>\n",
       "      <th>key</th>\n",
       "      <th>liveness</th>\n",
       "      <th>loudness</th>\n",
       "      <th>mode</th>\n",
       "      <th>speechiness</th>\n",
       "      <th>tempo</th>\n",
       "      <th>time_signature</th>\n",
       "      <th>valence</th>\n",
       "      <th>target</th>\n",
       "    </tr>\n",
       "  </thead>\n",
       "  <tbody>\n",
       "    <tr>\n",
       "      <th>count</th>\n",
       "      <td>1613.000000</td>\n",
       "      <td>1613.000000</td>\n",
       "      <td>1.613000e+03</td>\n",
       "      <td>1613.000000</td>\n",
       "      <td>1613.000000</td>\n",
       "      <td>1613.000000</td>\n",
       "      <td>1613.000000</td>\n",
       "      <td>1613.000000</td>\n",
       "      <td>1613.000000</td>\n",
       "      <td>1613.000000</td>\n",
       "      <td>1613.000000</td>\n",
       "      <td>1613.000000</td>\n",
       "      <td>1613.000000</td>\n",
       "      <td>1613.000000</td>\n",
       "    </tr>\n",
       "    <tr>\n",
       "      <th>mean</th>\n",
       "      <td>0.185067</td>\n",
       "      <td>0.620076</td>\n",
       "      <td>2.462533e+05</td>\n",
       "      <td>0.681315</td>\n",
       "      <td>0.134317</td>\n",
       "      <td>5.384377</td>\n",
       "      <td>0.191317</td>\n",
       "      <td>-7.095272</td>\n",
       "      <td>0.619343</td>\n",
       "      <td>0.092119</td>\n",
       "      <td>121.310311</td>\n",
       "      <td>3.975201</td>\n",
       "      <td>0.495891</td>\n",
       "      <td>0.512089</td>\n",
       "    </tr>\n",
       "    <tr>\n",
       "      <th>std</th>\n",
       "      <td>0.255838</td>\n",
       "      <td>0.161152</td>\n",
       "      <td>8.056740e+04</td>\n",
       "      <td>0.206964</td>\n",
       "      <td>0.274217</td>\n",
       "      <td>3.653722</td>\n",
       "      <td>0.156071</td>\n",
       "      <td>3.678993</td>\n",
       "      <td>0.485699</td>\n",
       "      <td>0.088007</td>\n",
       "      <td>26.431574</td>\n",
       "      <td>0.247829</td>\n",
       "      <td>0.244267</td>\n",
       "      <td>0.500009</td>\n",
       "    </tr>\n",
       "    <tr>\n",
       "      <th>min</th>\n",
       "      <td>0.000003</td>\n",
       "      <td>0.148000</td>\n",
       "      <td>1.604200e+04</td>\n",
       "      <td>0.015600</td>\n",
       "      <td>0.000000</td>\n",
       "      <td>0.000000</td>\n",
       "      <td>0.018800</td>\n",
       "      <td>-31.082000</td>\n",
       "      <td>0.000000</td>\n",
       "      <td>0.023100</td>\n",
       "      <td>47.859000</td>\n",
       "      <td>1.000000</td>\n",
       "      <td>0.037300</td>\n",
       "      <td>0.000000</td>\n",
       "    </tr>\n",
       "    <tr>\n",
       "      <th>25%</th>\n",
       "      <td>0.010000</td>\n",
       "      <td>0.514000</td>\n",
       "      <td>1.999040e+05</td>\n",
       "      <td>0.564000</td>\n",
       "      <td>0.000000</td>\n",
       "      <td>2.000000</td>\n",
       "      <td>0.092200</td>\n",
       "      <td>-8.388000</td>\n",
       "      <td>0.000000</td>\n",
       "      <td>0.037500</td>\n",
       "      <td>100.221000</td>\n",
       "      <td>4.000000</td>\n",
       "      <td>0.298000</td>\n",
       "      <td>0.000000</td>\n",
       "    </tr>\n",
       "    <tr>\n",
       "      <th>50%</th>\n",
       "      <td>0.062600</td>\n",
       "      <td>0.634000</td>\n",
       "      <td>2.298590e+05</td>\n",
       "      <td>0.712000</td>\n",
       "      <td>0.000088</td>\n",
       "      <td>6.000000</td>\n",
       "      <td>0.125000</td>\n",
       "      <td>-6.298000</td>\n",
       "      <td>1.000000</td>\n",
       "      <td>0.055300</td>\n",
       "      <td>121.241000</td>\n",
       "      <td>4.000000</td>\n",
       "      <td>0.492000</td>\n",
       "      <td>1.000000</td>\n",
       "    </tr>\n",
       "    <tr>\n",
       "      <th>75%</th>\n",
       "      <td>0.260000</td>\n",
       "      <td>0.739000</td>\n",
       "      <td>2.703330e+05</td>\n",
       "      <td>0.841000</td>\n",
       "      <td>0.055900</td>\n",
       "      <td>9.000000</td>\n",
       "      <td>0.250000</td>\n",
       "      <td>-4.833000</td>\n",
       "      <td>1.000000</td>\n",
       "      <td>0.107000</td>\n",
       "      <td>136.894000</td>\n",
       "      <td>4.000000</td>\n",
       "      <td>0.689000</td>\n",
       "      <td>1.000000</td>\n",
       "    </tr>\n",
       "    <tr>\n",
       "      <th>max</th>\n",
       "      <td>0.994000</td>\n",
       "      <td>0.984000</td>\n",
       "      <td>1.004627e+06</td>\n",
       "      <td>0.997000</td>\n",
       "      <td>0.976000</td>\n",
       "      <td>11.000000</td>\n",
       "      <td>0.969000</td>\n",
       "      <td>-0.718000</td>\n",
       "      <td>1.000000</td>\n",
       "      <td>0.622000</td>\n",
       "      <td>219.331000</td>\n",
       "      <td>5.000000</td>\n",
       "      <td>0.974000</td>\n",
       "      <td>1.000000</td>\n",
       "    </tr>\n",
       "    <tr>\n",
       "      <th>range</th>\n",
       "      <td>0.993997</td>\n",
       "      <td>0.836000</td>\n",
       "      <td>9.885850e+05</td>\n",
       "      <td>0.981400</td>\n",
       "      <td>0.976000</td>\n",
       "      <td>11.000000</td>\n",
       "      <td>0.950200</td>\n",
       "      <td>30.364000</td>\n",
       "      <td>1.000000</td>\n",
       "      <td>0.598900</td>\n",
       "      <td>171.472000</td>\n",
       "      <td>4.000000</td>\n",
       "      <td>0.936700</td>\n",
       "      <td>1.000000</td>\n",
       "    </tr>\n",
       "  </tbody>\n",
       "</table>\n",
       "</div>"
      ],
      "text/plain": [
       "       acousticness  danceability   duration_ms       energy  \\\n",
       "count   1613.000000   1613.000000  1.613000e+03  1613.000000   \n",
       "mean       0.185067      0.620076  2.462533e+05     0.681315   \n",
       "std        0.255838      0.161152  8.056740e+04     0.206964   \n",
       "min        0.000003      0.148000  1.604200e+04     0.015600   \n",
       "25%        0.010000      0.514000  1.999040e+05     0.564000   \n",
       "50%        0.062600      0.634000  2.298590e+05     0.712000   \n",
       "75%        0.260000      0.739000  2.703330e+05     0.841000   \n",
       "max        0.994000      0.984000  1.004627e+06     0.997000   \n",
       "range      0.993997      0.836000  9.885850e+05     0.981400   \n",
       "\n",
       "       instrumentalness          key     liveness     loudness         mode  \\\n",
       "count       1613.000000  1613.000000  1613.000000  1613.000000  1613.000000   \n",
       "mean           0.134317     5.384377     0.191317    -7.095272     0.619343   \n",
       "std            0.274217     3.653722     0.156071     3.678993     0.485699   \n",
       "min            0.000000     0.000000     0.018800   -31.082000     0.000000   \n",
       "25%            0.000000     2.000000     0.092200    -8.388000     0.000000   \n",
       "50%            0.000088     6.000000     0.125000    -6.298000     1.000000   \n",
       "75%            0.055900     9.000000     0.250000    -4.833000     1.000000   \n",
       "max            0.976000    11.000000     0.969000    -0.718000     1.000000   \n",
       "range          0.976000    11.000000     0.950200    30.364000     1.000000   \n",
       "\n",
       "       speechiness        tempo  time_signature      valence       target  \n",
       "count  1613.000000  1613.000000     1613.000000  1613.000000  1613.000000  \n",
       "mean      0.092119   121.310311        3.975201     0.495891     0.512089  \n",
       "std       0.088007    26.431574        0.247829     0.244267     0.500009  \n",
       "min       0.023100    47.859000        1.000000     0.037300     0.000000  \n",
       "25%       0.037500   100.221000        4.000000     0.298000     0.000000  \n",
       "50%       0.055300   121.241000        4.000000     0.492000     1.000000  \n",
       "75%       0.107000   136.894000        4.000000     0.689000     1.000000  \n",
       "max       0.622000   219.331000        5.000000     0.974000     1.000000  \n",
       "range     0.598900   171.472000        4.000000     0.936700     1.000000  "
      ]
     },
     "execution_count": 30,
     "metadata": {},
     "output_type": "execute_result"
    }
   ],
   "source": [
    "range_row = desc.loc['max'] - desc.loc['min']\n",
    "desc.loc['range'] = range_row\n",
    "desc.head(9)"
   ]
  },
  {
   "cell_type": "markdown",
   "metadata": {},
   "source": [
    "<br><br>"
   ]
  },
  {
   "cell_type": "markdown",
   "metadata": {
    "nbgrader": {
     "grade": false,
     "grade_id": "cell-b33320bcf667584a",
     "locked": true,
     "schema_version": 3,
     "solution": false
    }
   },
   "source": [
    "### 1.4 Plotting histograms \n",
    "\n",
    "_Points: 5_\n",
    "\n",
    "The starter code below produces histograms for the `loudness` feature which shows the distribution of the feature values in the training set, separated for positive (target=1, i.e., user liked the song) and negative (target=0, i.e., user disliked the song) examples. There are two different histograms, one for target = 0 and one for target = 1, and they are overlaid on top of each other. The histogram shows that extremely quiet songs tend to be disliked (more blue bars than orange on the left) and very loud songs also tend to be disliked (more blue than orange on the far right).\n",
    "\n",
    "> Note: I am using pandas plotting here. You can also use matplotlib if you wish. "
   ]
  },
  {
   "cell_type": "code",
   "execution_count": 32,
   "metadata": {},
   "outputs": [
    {
     "data": {
      "image/png": "[encoded data removed]",
      "text/plain": [
       "<Figure size 640x480 with 1 Axes>"
      ]
     },
     "metadata": {},
     "output_type": "display_data"
    }
   ],
   "source": [
    "feat = \"loudness\"\n",
    "ax = train_df.groupby(\"target\")[feat].plot.hist(bins=50, alpha=0.5, legend=True)\n",
    "plt.xlabel(feat)\n",
    "plt.title(\"Histogram of \" + feat)\n",
    "plt.show()"
   ]
  },
  {
   "cell_type": "markdown",
   "metadata": {},
   "source": [
    "**Your tasks:**\n",
    "\n",
    "Create histograms for the following features in the order below.\n",
    "- acousticness\n",
    "- danceability\n",
    "- tempo\n",
    "- energy\n",
    "- valence\n",
    "\n",
    "> To adhere to the [DRY (Don't Repeat Yourself)](https://en.wikipedia.org/wiki/Don%27t_repeat_yourself) principle, make sure you use a `for` loop for your plotting, rather than repeating the plotting code 4 times. For this to work, I used `plt.show()` at the end of your loop, which draws the figure and resets the canvas for your next plot."
   ]
  },
  {
   "cell_type": "markdown",
   "metadata": {},
   "source": [
    "<div class=\"alert alert-warning\">\n",
    "\n",
    "Solution_1.4\n",
    "    \n",
    "</div>"
   ]
  },
  {
   "cell_type": "code",
   "execution_count": 179,
   "metadata": {},
   "outputs": [
    {
     "data": {
      "image/png": "[encoded data removed]",
      "text/plain": [
       "<Figure size 640x480 with 1 Axes>"
      ]
     },
     "metadata": {},
     "output_type": "display_data"
    },
    {
     "data": {
      "image/png": "[encoded data removed]",
      "text/plain": [
       "<Figure size 640x480 with 1 Axes>"
      ]
     },
     "metadata": {},
     "output_type": "display_data"
    },
    {
     "data": {
      "image/png": "[encoded data removed]",
      "text/plain": [
       "<Figure size 640x480 with 1 Axes>"
      ]
     },
     "metadata": {},
     "output_type": "display_data"
    },
    {
     "data": {
      "image/png": "[encoded data removed]",
      "text/plain": [
       "<Figure size 640x480 with 1 Axes>"
      ]
     },
     "metadata": {},
     "output_type": "display_data"
    },
    {
     "data": {
      "image/png": "[encoded data removed]",
      "text/plain": [
       "<Figure size 640x480 with 1 Axes>"
      ]
     },
     "metadata": {},
     "output_type": "display_data"
    }
   ],
   "source": [
    "feats = [\"acousticness\", \"danceability\", \"tempo\", \"energy\", \"valence\"]\n",
    "for feat in feats:\n",
    "    ax = train_df.groupby(\"target\")[feat].plot.hist(bins=50, alpha=0.5, legend=True)\n",
    "    plt.xlabel(feat)\n",
    "    plt.title(\"Histogram of \" + feat)\n",
    "    plt.show()"
   ]
  },
  {
   "cell_type": "markdown",
   "metadata": {},
   "source": [
    "<br><br>"
   ]
  },
  {
   "cell_type": "markdown",
   "metadata": {},
   "source": [
    "### 1.5 Identical histograms\n",
    "\n",
    "_Points: 3_\n",
    "\n",
    "**Your tasks:**\n",
    "\n",
    "Let's say that, for a particular feature, the histograms of that feature are identical for the two target classes. Does that mean the feature is not useful for predicting the target class?"
   ]
  },
  {
   "cell_type": "markdown",
   "metadata": {},
   "source": [
    "<div class=\"alert alert-warning\">\n",
    "\n",
    "Solution_1.5\n",
    "    \n",
    "</div>"
   ]
  },
  {
   "cell_type": "markdown",
   "metadata": {},
   "source": [
    "Identical histograms mean feature values are distributed similarly for both target classes. \n",
    "Hence, feature does not provide discriminatory power for predicting target class."
   ]
  },
  {
   "cell_type": "markdown",
   "metadata": {},
   "source": [
    "<br><br>"
   ]
  },
  {
   "cell_type": "markdown",
   "metadata": {
    "nbgrader": {
     "grade": false,
     "grade_id": "cell-86f9e0c649669daf",
     "locked": true,
     "schema_version": 3,
     "solution": false,
     "task": false
    }
   },
   "source": [
    "### 1.6 Which columns to include? \n",
    "\n",
    "_Points: 4_\n",
    "\n",
    "**Your tasks:**\n",
    "\n",
    "Note that the dataset includes two free text features labeled `song_title` and `artist`. Do you think these features could be useful in predicting whether the user liked the song or not? Would there be any difficulty in using them in your model?   "
   ]
  },
  {
   "cell_type": "markdown",
   "metadata": {},
   "source": [
    "<div class=\"alert alert-warning\">\n",
    "\n",
    "Solution_1.6\n",
    "    \n",
    "</div>"
   ]
  },
  {
   "cell_type": "markdown",
   "metadata": {},
   "source": [
    "I do not know how `song_title` could be used. \n",
    "\n",
    "`artist`, if users have consistent preference for specific artists, then this feature does capture that preference. \n",
    "- to use this feature we would need to convert it into a numerical feature"
   ]
  },
  {
   "cell_type": "markdown",
   "metadata": {},
   "source": [
    "<br><br>"
   ]
  },
  {
   "cell_type": "markdown",
   "metadata": {
    "nbgrader": {
     "grade": false,
     "grade_id": "cell-1440876fbc49ead5",
     "locked": true,
     "schema_version": 3,
     "solution": false,
     "task": false
    }
   },
   "source": [
    "## Exercise 2: Using sklearn to build a decision tree classifier"
   ]
  },
  {
   "cell_type": "markdown",
   "metadata": {},
   "source": [
    "<hr>\n",
    "Recall that in machine learning what we care about is generalization; we want to build models that generalize well on unseen examples. One way to approximate generalization error is by splitting the data into train and test splits, building and tuning the model only using the train split, and carrying out the final assessment on the test split. "
   ]
  },
  {
   "cell_type": "markdown",
   "metadata": {},
   "source": [
    "<br><br>"
   ]
  },
  {
   "cell_type": "markdown",
   "metadata": {
    "nbgrader": {
     "grade": false,
     "grade_id": "cell-706403e72adade4b",
     "locked": true,
     "schema_version": 3,
     "solution": false
    }
   },
   "source": [
    "### 2.1\n",
    "\n",
    "_Points 2_\n",
    "\n",
    "**Your tasks:**\n",
    "\n",
    "1. Separate `X` and `y` from `train_df` and `test_df` and store them as `X_train`, `y_train`, `X_test`, `y_test`, respectively. Skip the `song_title` and `artist` columns for now. "
   ]
  },
  {
   "cell_type": "markdown",
   "metadata": {},
   "source": [
    "<div class=\"alert alert-warning\">\n",
    "\n",
    "Solution_2.1\n",
    "    \n",
    "</div>"
   ]
  },
  {
   "cell_type": "code",
   "execution_count": 69,
   "metadata": {},
   "outputs": [
    {
     "data": {
      "text/html": [
       "<div>\n",
       "<style scoped>\n",
       "    .dataframe tbody tr th:only-of-type {\n",
       "        vertical-align: middle;\n",
       "    }\n",
       "\n",
       "    .dataframe tbody tr th {\n",
       "        vertical-align: top;\n",
       "    }\n",
       "\n",
       "    .dataframe thead th {\n",
       "        text-align: right;\n",
       "    }\n",
       "</style>\n",
       "<table border=\"1\" class=\"dataframe\">\n",
       "  <thead>\n",
       "    <tr style=\"text-align: right;\">\n",
       "      <th></th>\n",
       "      <th>acousticness</th>\n",
       "      <th>danceability</th>\n",
       "      <th>duration_ms</th>\n",
       "      <th>energy</th>\n",
       "      <th>instrumentalness</th>\n",
       "      <th>key</th>\n",
       "      <th>liveness</th>\n",
       "      <th>loudness</th>\n",
       "      <th>mode</th>\n",
       "      <th>speechiness</th>\n",
       "      <th>tempo</th>\n",
       "      <th>time_signature</th>\n",
       "      <th>valence</th>\n",
       "    </tr>\n",
       "  </thead>\n",
       "  <tbody>\n",
       "    <tr>\n",
       "      <th>260</th>\n",
       "      <td>0.01810</td>\n",
       "      <td>0.932</td>\n",
       "      <td>192773</td>\n",
       "      <td>0.819</td>\n",
       "      <td>0.000007</td>\n",
       "      <td>8</td>\n",
       "      <td>0.0577</td>\n",
       "      <td>-3.484</td>\n",
       "      <td>0</td>\n",
       "      <td>0.2030</td>\n",
       "      <td>119.941</td>\n",
       "      <td>4.0</td>\n",
       "      <td>0.552</td>\n",
       "    </tr>\n",
       "    <tr>\n",
       "      <th>1286</th>\n",
       "      <td>0.08390</td>\n",
       "      <td>0.459</td>\n",
       "      <td>256933</td>\n",
       "      <td>0.561</td>\n",
       "      <td>0.000000</td>\n",
       "      <td>7</td>\n",
       "      <td>0.0998</td>\n",
       "      <td>-7.091</td>\n",
       "      <td>1</td>\n",
       "      <td>0.0271</td>\n",
       "      <td>144.784</td>\n",
       "      <td>4.0</td>\n",
       "      <td>0.298</td>\n",
       "    </tr>\n",
       "    <tr>\n",
       "      <th>1344</th>\n",
       "      <td>0.00192</td>\n",
       "      <td>0.482</td>\n",
       "      <td>198947</td>\n",
       "      <td>0.968</td>\n",
       "      <td>0.000454</td>\n",
       "      <td>6</td>\n",
       "      <td>0.1080</td>\n",
       "      <td>-4.395</td>\n",
       "      <td>1</td>\n",
       "      <td>0.1490</td>\n",
       "      <td>114.001</td>\n",
       "      <td>4.0</td>\n",
       "      <td>0.245</td>\n",
       "    </tr>\n",
       "    <tr>\n",
       "      <th>1197</th>\n",
       "      <td>0.03900</td>\n",
       "      <td>0.673</td>\n",
       "      <td>229507</td>\n",
       "      <td>0.758</td>\n",
       "      <td>0.000000</td>\n",
       "      <td>7</td>\n",
       "      <td>0.3410</td>\n",
       "      <td>-3.632</td>\n",
       "      <td>1</td>\n",
       "      <td>0.1580</td>\n",
       "      <td>135.956</td>\n",
       "      <td>4.0</td>\n",
       "      <td>0.541</td>\n",
       "    </tr>\n",
       "    <tr>\n",
       "      <th>119</th>\n",
       "      <td>0.02440</td>\n",
       "      <td>0.746</td>\n",
       "      <td>222093</td>\n",
       "      <td>0.873</td>\n",
       "      <td>0.000000</td>\n",
       "      <td>7</td>\n",
       "      <td>0.3540</td>\n",
       "      <td>-3.803</td>\n",
       "      <td>1</td>\n",
       "      <td>0.1280</td>\n",
       "      <td>148.075</td>\n",
       "      <td>4.0</td>\n",
       "      <td>0.808</td>\n",
       "    </tr>\n",
       "  </tbody>\n",
       "</table>\n",
       "</div>"
      ],
      "text/plain": [
       "      acousticness  danceability  duration_ms  energy  instrumentalness  key  \\\n",
       "260        0.01810         0.932       192773   0.819          0.000007    8   \n",
       "1286       0.08390         0.459       256933   0.561          0.000000    7   \n",
       "1344       0.00192         0.482       198947   0.968          0.000454    6   \n",
       "1197       0.03900         0.673       229507   0.758          0.000000    7   \n",
       "119        0.02440         0.746       222093   0.873          0.000000    7   \n",
       "\n",
       "      liveness  loudness  mode  speechiness    tempo  time_signature  valence  \n",
       "260     0.0577    -3.484     0       0.2030  119.941             4.0    0.552  \n",
       "1286    0.0998    -7.091     1       0.0271  144.784             4.0    0.298  \n",
       "1344    0.1080    -4.395     1       0.1490  114.001             4.0    0.245  \n",
       "1197    0.3410    -3.632     1       0.1580  135.956             4.0    0.541  \n",
       "119     0.3540    -3.803     1       0.1280  148.075             4.0    0.808  "
      ]
     },
     "execution_count": 69,
     "metadata": {},
     "output_type": "execute_result"
    }
   ],
   "source": [
    "X_train = train_df.drop(columns=[\"target\", \"song_title\", \"artist\"])\n",
    "y_train = train_df[\"target\"]\n",
    "X_test = test_df.drop(columns=[\"target\", \"song_title\", \"artist\"])\n",
    "y_test = test_df[\"target\"]"
   ]
  },
  {
   "cell_type": "markdown",
   "metadata": {},
   "source": [
    "<br><br>"
   ]
  },
  {
   "cell_type": "markdown",
   "metadata": {
    "nbgrader": {
     "grade": false,
     "grade_id": "cell-706403e72adade4b",
     "locked": true,
     "schema_version": 3,
     "solution": false
    }
   },
   "source": [
    "### 2.2\n",
    "\n",
    "_Points: 2_\n",
    "\n",
    "**Your tasks:**\n",
    "\n",
    "1. Create a `DecisionTreeClassifier` with `random_state=123` and store it in a variable called `spotify_tree`.\n",
    "2. Fit the the decision tree classifier. "
   ]
  },
  {
   "cell_type": "markdown",
   "metadata": {},
   "source": [
    "<div class=\"alert alert-warning\">\n",
    "\n",
    "Solution_2.2\n",
    "    \n",
    "</div>"
   ]
  },
  {
   "cell_type": "code",
   "execution_count": 97,
   "metadata": {},
   "outputs": [
    {
     "data": {
      "text/plain": [
       "0.9987600743955363"
      ]
     },
     "execution_count": 97,
     "metadata": {},
     "output_type": "execute_result"
    }
   ],
   "source": [
    "spotify_tree = DecisionTreeClassifier(random_state=123)\n",
    "spotify_tree.fit(X_train, y_train)\n",
    "spotify_tree.score(X_train, y_train)"
   ]
  },
  {
   "cell_type": "markdown",
   "metadata": {},
   "source": [
    "<br><br>"
   ]
  },
  {
   "cell_type": "markdown",
   "metadata": {
    "nbgrader": {
     "grade": false,
     "grade_id": "cell-43ac6f91bc3bd9da",
     "locked": true,
     "schema_version": 3,
     "solution": false
    }
   },
   "source": [
    "### 2.3 \n",
    "\n",
    "_Points: 2_\n",
    "\n",
    "**Your tasks**\n",
    "\n",
    "1. Use the `predict` method to predict the class of the first example in your `X_train` and store the prediction in a variable called `pred` and compare it with the \"true\" class from `y_train`.   \n",
    "\n",
    "> Hint: you can grab the first example with `X_train.iloc[[0]]`."
   ]
  },
  {
   "cell_type": "markdown",
   "metadata": {},
   "source": [
    "<div class=\"alert alert-warning\">\n",
    "\n",
    "Solution_2.3\n",
    "    \n",
    "</div>"
   ]
  },
  {
   "cell_type": "code",
   "execution_count": 178,
   "metadata": {},
   "outputs": [
    {
     "name": "stdout",
     "output_type": "stream",
     "text": [
      "<class 'numpy.int64'>\n"
     ]
    },
    {
     "data": {
      "text/plain": [
       "array([ True])"
      ]
     },
     "execution_count": 178,
     "metadata": {},
     "output_type": "execute_result"
    }
   ],
   "source": [
    "pred = spotify_tree.predict(X_train.iloc[0:1])\n",
    "pred == y_train.iloc[0]"
   ]
  },
  {
   "cell_type": "markdown",
   "metadata": {},
   "source": [
    "<br><br>"
   ]
  },
  {
   "cell_type": "markdown",
   "metadata": {},
   "source": [
    "### 2.4\n",
    "\n",
    "_Points: 2_\n",
    "\n",
    "**Your tasks:**\n",
    "\n",
    "1. Use the `cross_val_score` function on your training set to compute the 10-fold cross-validation accuracy of your tree. Store the mean cross-validation accuracy in a variable called `mean_cv_score`.  \n"
   ]
  },
  {
   "cell_type": "markdown",
   "metadata": {},
   "source": [
    "<div class=\"alert alert-warning\">\n",
    "\n",
    "Solution_2.4\n",
    "    \n",
    "</div>"
   ]
  },
  {
   "cell_type": "code",
   "execution_count": 110,
   "metadata": {},
   "outputs": [
    {
     "name": "stdout",
     "output_type": "stream",
     "text": [
      "[0.68518519 0.63580247 0.64197531 0.70807453 0.72670807 0.60869565\n",
      " 0.71428571 0.71428571 0.67701863 0.70807453]\n"
     ]
    },
    {
     "data": {
      "text/plain": [
       "0.6820105820105821"
      ]
     },
     "execution_count": 110,
     "metadata": {},
     "output_type": "execute_result"
    }
   ],
   "source": [
    "cv_scores = cross_val_score(spotify_tree, X_train, y_train, cv=10)\n",
    "print(cv_scores)\n",
    "mean_cv_score = np.mean(cv_scores)\n",
    "mean_cv_score"
   ]
  },
  {
   "cell_type": "markdown",
   "metadata": {},
   "source": [
    "<br><br>"
   ]
  },
  {
   "cell_type": "markdown",
   "metadata": {},
   "source": [
    "### 2.5\n",
    "\n",
    "_Points: 3_\n",
    "\n",
    "The above is useful, but we would like to see the training accuracy as well. \n",
    "\n",
    "**Your tasks:**\n",
    "\n",
    "1. Compute the 10-fold cross-validation again but this time using the `cross_validate` function with `return_train_score=True` and save the results in a variable called `scores_df` as a pandas dataframe.  "
   ]
  },
  {
   "cell_type": "markdown",
   "metadata": {},
   "source": [
    "<div class=\"alert alert-warning\">\n",
    "\n",
    "Solution_2.5\n",
    "    \n",
    "</div>"
   ]
  },
  {
   "cell_type": "code",
   "execution_count": 109,
   "metadata": {},
   "outputs": [
    {
     "data": {
      "text/html": [
       "<div>\n",
       "<style scoped>\n",
       "    .dataframe tbody tr th:only-of-type {\n",
       "        vertical-align: middle;\n",
       "    }\n",
       "\n",
       "    .dataframe tbody tr th {\n",
       "        vertical-align: top;\n",
       "    }\n",
       "\n",
       "    .dataframe thead th {\n",
       "        text-align: right;\n",
       "    }\n",
       "</style>\n",
       "<table border=\"1\" class=\"dataframe\">\n",
       "  <thead>\n",
       "    <tr style=\"text-align: right;\">\n",
       "      <th></th>\n",
       "      <th>fit_time</th>\n",
       "      <th>score_time</th>\n",
       "      <th>test_score</th>\n",
       "      <th>train_score</th>\n",
       "    </tr>\n",
       "  </thead>\n",
       "  <tbody>\n",
       "    <tr>\n",
       "      <th>0</th>\n",
       "      <td>0.016364</td>\n",
       "      <td>0.001863</td>\n",
       "      <td>0.685185</td>\n",
       "      <td>0.999311</td>\n",
       "    </tr>\n",
       "    <tr>\n",
       "      <th>1</th>\n",
       "      <td>0.017189</td>\n",
       "      <td>0.001732</td>\n",
       "      <td>0.635802</td>\n",
       "      <td>0.998622</td>\n",
       "    </tr>\n",
       "    <tr>\n",
       "      <th>2</th>\n",
       "      <td>0.015997</td>\n",
       "      <td>0.001720</td>\n",
       "      <td>0.641975</td>\n",
       "      <td>0.999311</td>\n",
       "    </tr>\n",
       "    <tr>\n",
       "      <th>3</th>\n",
       "      <td>0.016438</td>\n",
       "      <td>0.001742</td>\n",
       "      <td>0.708075</td>\n",
       "      <td>0.998623</td>\n",
       "    </tr>\n",
       "    <tr>\n",
       "      <th>4</th>\n",
       "      <td>0.016351</td>\n",
       "      <td>0.001757</td>\n",
       "      <td>0.726708</td>\n",
       "      <td>0.998623</td>\n",
       "    </tr>\n",
       "    <tr>\n",
       "      <th>5</th>\n",
       "      <td>0.016824</td>\n",
       "      <td>0.001828</td>\n",
       "      <td>0.608696</td>\n",
       "      <td>0.998623</td>\n",
       "    </tr>\n",
       "    <tr>\n",
       "      <th>6</th>\n",
       "      <td>0.014992</td>\n",
       "      <td>0.001630</td>\n",
       "      <td>0.714286</td>\n",
       "      <td>0.998623</td>\n",
       "    </tr>\n",
       "    <tr>\n",
       "      <th>7</th>\n",
       "      <td>0.015852</td>\n",
       "      <td>0.001766</td>\n",
       "      <td>0.714286</td>\n",
       "      <td>0.999311</td>\n",
       "    </tr>\n",
       "    <tr>\n",
       "      <th>8</th>\n",
       "      <td>0.015636</td>\n",
       "      <td>0.001720</td>\n",
       "      <td>0.677019</td>\n",
       "      <td>0.999311</td>\n",
       "    </tr>\n",
       "    <tr>\n",
       "      <th>9</th>\n",
       "      <td>0.016448</td>\n",
       "      <td>0.001757</td>\n",
       "      <td>0.708075</td>\n",
       "      <td>0.998623</td>\n",
       "    </tr>\n",
       "  </tbody>\n",
       "</table>\n",
       "</div>"
      ],
      "text/plain": [
       "   fit_time  score_time  test_score  train_score\n",
       "0  0.016364    0.001863    0.685185     0.999311\n",
       "1  0.017189    0.001732    0.635802     0.998622\n",
       "2  0.015997    0.001720    0.641975     0.999311\n",
       "3  0.016438    0.001742    0.708075     0.998623\n",
       "4  0.016351    0.001757    0.726708     0.998623\n",
       "5  0.016824    0.001828    0.608696     0.998623\n",
       "6  0.014992    0.001630    0.714286     0.998623\n",
       "7  0.015852    0.001766    0.714286     0.999311\n",
       "8  0.015636    0.001720    0.677019     0.999311\n",
       "9  0.016448    0.001757    0.708075     0.998623"
      ]
     },
     "execution_count": 109,
     "metadata": {},
     "output_type": "execute_result"
    }
   ],
   "source": [
    "scores_df = cross_validate(spotify_tree, X_train, y_train, cv=10, return_train_score=True)\n",
    "scores_df = pd.DataFrame(scores_df)\n",
    "scores_df.head(10)"
   ]
  },
  {
   "cell_type": "markdown",
   "metadata": {},
   "source": [
    "<br><br>"
   ]
  },
  {
   "cell_type": "markdown",
   "metadata": {},
   "source": [
    "### 2.6\n",
    "\n",
    "_Points: 2_\n",
    "\n",
    "**Your tasks:**\n",
    "1. Inspect the 10 sub-scores from the 10 folds of cross-validation. How does this inform the trustworthiness of your mean cross-validation score?\n",
    "2. Do you see a significant difference between the training scores and the cross-validation scores? Briefly discuss in 1 to 2 sentences."
   ]
  },
  {
   "cell_type": "markdown",
   "metadata": {},
   "source": [
    "<div class=\"alert alert-warning\">\n",
    "\n",
    "Solution_2.6\n",
    "    \n",
    "</div>"
   ]
  },
  {
   "cell_type": "markdown",
   "metadata": {},
   "source": [
    "1. smaller variation between the sub-scores indicates higher trustworthiness of the mean cross-validation score. This applies to both train_scores and test_scores\n",
    "2. Comparing training and cross-validation scores shows how well the model works on new data. If they're very different, it might mean the model is either too simple or too complex. For example, if it predicts 70% correctly on new data but almost 100% on training data, it suggests the model could be improved, which is what I am seeing in this model."
   ]
  },
  {
   "cell_type": "markdown",
   "metadata": {
    "nbgrader": {
     "grade": false,
     "grade_id": "cell-4150979c1845a18c",
     "locked": true,
     "schema_version": 3,
     "solution": false,
     "task": false
    }
   },
   "source": [
    "## Exercise 3: Hyperparameters \n",
    "\n",
    "In this exercise, you'll experiment with the `max_depth` hyperparameter of the decision tree classifier. See the [`DecisionTreeClassifier` documentation](https://scikit-learn.org/stable/modules/generated/sklearn.tree.DecisionTreeClassifier.html) for more details."
   ]
  },
  {
   "cell_type": "markdown",
   "metadata": {},
   "source": [
    "### 3.1\n",
    "\n",
    "_Points: 10_\n",
    "\n",
    "**Your tasks:**\n",
    "\n",
    "1. Explore the `max_depth` hyperparameter. Run 10-fold cross-validation for trees with different values of `max_depth` (at least 10 different values in the range 1 to 25). \n",
    "2. For each `max_depth`, get both the train accuracy and the cross-validation accuracy.\n",
    "3. Make a plot with `max_depth` on the *x*-axis and the train and cross-validation scores on the *y*-axis. That is, your plot should have two curves, one for train and one for cross-validation. Include a legend to specify which is which. Store the plot in a variable called `max_depth_plot` for autograding. \n",
    "\n",
    "\n",
    "> Note: generally speaking (for all assignments) you are welcome to copy/paste code directly from the lecture notes, though I ask that you add a small citation (e.g. \"Adapted from lecture 2\") if you do so."
   ]
  },
  {
   "cell_type": "code",
   "execution_count": 150,
   "metadata": {},
   "outputs": [
    {
     "data": {
      "text/plain": [
       "array([ 1,  3,  5,  7,  9, 11, 13, 15, 17, 19, 21, 23])"
      ]
     },
     "execution_count": 150,
     "metadata": {},
     "output_type": "execute_result"
    }
   ],
   "source": [
    "depths = np.arange(1, 25, 2)\n",
    "depths"
   ]
  },
  {
   "cell_type": "markdown",
   "metadata": {},
   "source": [
    "<div class=\"alert alert-warning\">\n",
    "\n",
    "Solution_3.1\n",
    "    \n",
    "</div>"
   ]
  },
  {
   "cell_type": "code",
   "execution_count": 148,
   "metadata": {},
   "outputs": [
    {
     "data": {
      "text/plain": [
       "<matplotlib.legend.Legend at 0x7fe617171f90>"
      ]
     },
     "execution_count": 148,
     "metadata": {},
     "output_type": "execute_result"
    },
    {
     "data": {
      "image/png": "[encoded data removed]",
      "text/plain": [
       "<Figure size 640x480 with 1 Axes>"
      ]
     },
     "metadata": {},
     "output_type": "display_data"
    }
   ],
   "source": [
    "mean_test_scores = []\n",
    "mean_train_scores = []\n",
    "for depth in depths:\n",
    "    classifier = DecisionTreeClassifier(max_depth=depth).fit(X_train, y_train)\n",
    "    cv = cross_validate(classifier, X_train, y_train, cv=10, return_train_score=True)\n",
    "    mean_test_scores.append(np.mean(cv[\"test_score\"]))\n",
    "    mean_train_scores.append(np.mean(cv[\"train_score\"]))\n",
    "    \n",
    "# plt.plot(depths, mean_test_scores, label='Cross-Validation Accuracy')\n",
    "# plt.plot(depths, mean_train_scores, label='Training Accuracy')\n",
    "# plt.legend()\n",
    "# plt.xlabel(\"max depth\")\n",
    "# plt.ylabel(\"accuracy\")\n",
    "max_depth_plot, ax = plt.subplots()\n",
    "\n",
    "ax.plot(depths, mean_test_scores, label='Cross-Validation Accuracy')\n",
    "ax.plot(depths, mean_train_scores, label='Training Accuracy')\n",
    "\n",
    "ax.set_xlabel(\"Max Depth\")\n",
    "ax.set_ylabel(\"Accuracy\")\n",
    "ax.legend()\n",
    "\n",
    "# max_depth_plot.show()"
   ]
  },
  {
   "cell_type": "markdown",
   "metadata": {},
   "source": [
    "<br><br>"
   ]
  },
  {
   "cell_type": "markdown",
   "metadata": {},
   "source": [
    "### 3.2 `max_depth` and the fundamental tradeoff\n",
    "\n",
    "_Points: 2_\n",
    "\n",
    "**Your tasks:**\n",
    "\n",
    "Discuss how changing the `max_depth` hyperparameter affects the training and cross-validation accuracy."
   ]
  },
  {
   "cell_type": "markdown",
   "metadata": {},
   "source": [
    "<div class=\"alert alert-warning\">\n",
    "\n",
    "Solution_3.2\n",
    "    \n",
    "</div>"
   ]
  },
  {
   "cell_type": "markdown",
   "metadata": {},
   "source": [
    "Training Accuracy: When the max_depth of a decision tree is increased, the model can become very complex and start to memorize the training data, including any random noise or outliers. This results in very high or perfect accuracy on the training data because the model fits the data exactly, including the noise.\n",
    "- For my model, the accuracy curve continues to rise until it reaches 1.\n",
    "\n",
    "Cross-Validation Accuracy: Initially, as max_depth increases, the model may improve because it is capturing genuine patterns. However, beyond a certain point, the model starts to overfit, meaning it fits the noise in the training data rather than the underlying trends. This causes the model to perform poorly on new, unseen data because the noise patterns it learned from the training data do not generalize.\n",
    "- For my model, the accuracy starts to decline after reaching a `max_depth` of 3."
   ]
  },
  {
   "cell_type": "markdown",
   "metadata": {},
   "source": [
    "<br><br>"
   ]
  },
  {
   "cell_type": "markdown",
   "metadata": {},
   "source": [
    "### 3.3 Picking a reasonable value for `max_depth`\n",
    "\n",
    "_Points: 2_\n",
    "\n",
    "**Your tasks:**\n",
    "\n",
    "From these results, what value for max_depth would you pick as the optimal value? Store it in the variable called `best_max_depth` below. "
   ]
  },
  {
   "cell_type": "markdown",
   "metadata": {},
   "source": [
    "<div class=\"alert alert-warning\">\n",
    "\n",
    "Solution_3.3\n",
    "    \n",
    "</div>"
   ]
  },
  {
   "cell_type": "code",
   "execution_count": 151,
   "metadata": {},
   "outputs": [
    {
     "data": {
      "text/plain": [
       "3"
      ]
     },
     "execution_count": 151,
     "metadata": {},
     "output_type": "execute_result"
    }
   ],
   "source": [
    "best_max_depth = depths[1]\n",
    "best_max_depth"
   ]
  },
  {
   "cell_type": "markdown",
   "metadata": {},
   "source": [
    "<br><br>"
   ]
  },
  {
   "cell_type": "markdown",
   "metadata": {},
   "source": [
    "### 3.4 Final assessment on the test set\n",
    "\n",
    "_Points: 3_\n",
    "\n",
    "Remember the test set you created way back at the beginning of this assignment? Let's use it now to see if our cross-validation score from the previous exercise is trustworthy. \n",
    "\n",
    "**Your tasks:**\n",
    "1. Train a decision tree classifier using the optimal _max_depth_ you chose in the previous exercise on the entire training set.\n",
    "2. Compute and store it in a variable called `test_score`. "
   ]
  },
  {
   "cell_type": "markdown",
   "metadata": {},
   "source": [
    "<div class=\"alert alert-warning\">\n",
    "\n",
    "Solution_3.4\n",
    "    \n",
    "</div>"
   ]
  },
  {
   "cell_type": "code",
   "execution_count": 153,
   "metadata": {},
   "outputs": [
    {
     "data": {
      "text/plain": [
       "0.7599009900990099"
      ]
     },
     "execution_count": 153,
     "metadata": {},
     "output_type": "execute_result"
    }
   ],
   "source": [
    "test_score = DecisionTreeClassifier(max_depth=best_max_depth).fit(X_test, y_test).score(X_test, y_test)\n",
    "test_score"
   ]
  },
  {
   "cell_type": "markdown",
   "metadata": {},
   "source": [
    "<br><br>"
   ]
  },
  {
   "cell_type": "markdown",
   "metadata": {},
   "source": [
    "### 3.5 Analysis\n",
    "\n",
    "_Points: 5_\n",
    "\n",
    "**Your tasks:**\n",
    "\n",
    "1. How do the test scores compare to the cross-validation scores? Briefly discuss.\n",
    "2. Why can't you simply pick the value of `max_depth` that gives the best accuracy on the training data? (Answer in maximum 2 to 3 sentences.)\n",
    "3. Do you think that the max_depth you chose would generalize to other \"spotify\" datasets (i.e., data on other spotify users)?"
   ]
  },
  {
   "cell_type": "markdown",
   "metadata": {},
   "source": [
    "<div class=\"alert alert-warning\">\n",
    "\n",
    "Solution_3.5\n",
    "    \n",
    "</div>"
   ]
  },
  {
   "cell_type": "markdown",
   "metadata": {},
   "source": [
    "1. The test score is around 76%. This is higher than any of the cross validation scores I got before. In my graph I could see the highest cv score was around 72%. \n",
    "2. Simply picking the value of max_depth that gives the best accuracy on the training data may lead to overfitting. This is because selecting the maximum accuracy on the training data alone may result in a model that memorizes the training set without generalizing well to unseen data. Cross-validation is necessary to ensure that the model's performance is robust and can generalize to new data.\n",
    "3. It's uncertain whether the chosen `max_depth` would generalize well to other \"spotify\" datasets without further validation. The generalizability of the `max_depth` parameter depends on the similarity of the datasets in terms of features, distribution, and underlying patterns. Conducting experiments and validation on multiple datasets would provide a better understanding of its generalizability."
   ]
  },
  {
   "cell_type": "markdown",
   "metadata": {},
   "source": [
    "<br><br><br><br>"
   ]
  },
  {
   "cell_type": "markdown",
   "metadata": {},
   "source": [
    "## Exercise 4: Conceptual questions\n",
    "\n",
    "_Points: 3_\n",
    "\n",
    "Consider the dataset below, which has $6$ examples and $2$ features:\n",
    "\n",
    "$$X = \\begin{bmatrix}5 & 2\\\\4 & 3\\\\  2 & 2\\\\ 10 & 10\\\\ 9 & -1\\\\ 9& 9\\end{bmatrix}, \\quad y = \\begin{bmatrix}-1\\\\-1\\\\+1\\\\+1\\\\+1\\\\+1\\end{bmatrix}.$$\n",
    "\n",
    "1. Say we fit a decision stump (depth 1 decision tree) and the first split is on the first feature (left column) being less than 5.5. What would we predict in the \"true\" and \"false\" cases here?\n",
    "2. What training accuracy would the above stump get on this data set?\n",
    "3. Can we obtain 100% accuracy with a single decision stump in this particular example?"
   ]
  },
  {
   "cell_type": "markdown",
   "metadata": {},
   "source": [
    "<div class=\"alert alert-warning\">\n",
    "\n",
    "Solution_4\n",
    "    \n",
    "</div>"
   ]
  },
  {
   "cell_type": "markdown",
   "metadata": {},
   "source": [
    "..."
   ]
  },
  {
   "cell_type": "markdown",
   "metadata": {},
   "source": [
    "<br><br><br><br>"
   ]
  },
  {
   "cell_type": "markdown",
   "metadata": {},
   "source": [
    "## Submission instructions \n",
    "\n",
    "**PLEASE READ:** When you are ready to submit your assignment do the following:\n",
    "\n",
    "1. Run all cells in your notebook to make sure there are no errors by doing `Kernel -> Restart Kernel and Clear All Outputs` and then `Run -> Run All Cells`. \n",
    "2. Notebooks with cell execution numbers out of order or not starting from “1” will have marks deducted. Notebooks without the output displayed may not be graded at all (because we need to see the output in order to grade your work).\n",
    "3. Upload the assignment using PrairieLearn.\n",
    "4. Make sure that the plots and output are rendered properly in your submitted file."
   ]
  }
 ],
 "metadata": {
  "anaconda-cloud": {},
  "celltoolbar": "Create Assignment",
  "kernelspec": {
   "display_name": "Python 3 (ipykernel)",
   "language": "python",
   "name": "python3"
  },
  "language_info": {
   "codemirror_mode": {
    "name": "ipython",
    "version": 3
   },
   "file_extension": ".py",
   "mimetype": "text/x-python",
   "name": "python",
   "nbconvert_exporter": "python",
   "pygments_lexer": "ipython3",
   "version": "3.11.4"
  },
  "vscode": {
   "interpreter": {
    "hash": "aee8b7b246df8f9039afb4144a1f6fd8d2ca17a180786b69acc140d282b71a49"
   }
  }
 },
 "nbformat": 4,
 "nbformat_minor": 4
}
